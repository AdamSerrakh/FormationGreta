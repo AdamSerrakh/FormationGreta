{
  "cells": [
    {
      "cell_type": "markdown",
      "metadata": {
        "id": "view-in-github",
        "colab_type": "text"
      },
      "source": [
        "<a href=\"https://colab.research.google.com/github/AdamSerrakh/FormationGreta/blob/main/DevoirMaisonCNN.ipynb\" target=\"_parent\"><img src=\"https://colab.research.google.com/assets/colab-badge.svg\" alt=\"Open In Colab\"/></a>"
      ]
    },
    {
      "cell_type": "code",
      "source": [
        "from google.colab import drive\n",
        "drive.mount('/content/drive/', force_remount=True )"
      ],
      "metadata": {
        "colab": {
          "base_uri": "https://localhost:8080/"
        },
        "id": "Y__yUg9agaBI",
        "outputId": "e88dad07-8fba-4792-e61f-593ac4b81d16"
      },
      "id": "Y__yUg9agaBI",
      "execution_count": 1,
      "outputs": [
        {
          "output_type": "stream",
          "name": "stdout",
          "text": [
            "Mounted at /content/drive/\n"
          ]
        }
      ]
    },
    {
      "cell_type": "code",
      "source": [
        "import os\n",
        "pathTrain = \"/content/drive/MyDrive/afhq/train\"\n",
        "pathVal = \"/content/drive/MyDrive/afhq/val\"\n",
        "os.chdir(pathTrain)\n",
        "os.chdir(pathVal)"
      ],
      "metadata": {
        "id": "h_jxGvKc_AL5"
      },
      "id": "h_jxGvKc_AL5",
      "execution_count": 2,
      "outputs": []
    },
    {
      "cell_type": "code",
      "execution_count": 3,
      "id": "cd3da241",
      "metadata": {
        "scrolled": false,
        "id": "cd3da241"
      },
      "outputs": [],
      "source": [
        "import numpy as np\n",
        "import time\n",
        "np.random.seed(123)\n",
        "from matplotlib import pyplot as plt\n",
        "from sklearn.model_selection import train_test_split\n",
        "from sklearn.metrics import confusion_matrix\n",
        "import tensorflow as tf\n",
        "from tensorflow.keras import Sequential, Model, Input\n",
        "from tensorflow.keras.layers import Conv2DTranspose, Reshape, Dense, Activation, Flatten, Dropout, Convolution2D, MaxPooling2D, Input\n",
        "from matplotlib import pyplot"
      ]
    },
    {
      "cell_type": "code",
      "execution_count": 4,
      "id": "8055e607",
      "metadata": {
        "id": "8055e607"
      },
      "outputs": [],
      "source": [
        "def affiche(history):\n",
        " # summarize history for accuracy\n",
        " plt.plot(history.history['accuracy'])\n",
        " plt.plot(history.history['val_accuracy'])\n",
        " plt.title('model accuracy')\n",
        " plt.ylabel('accuracy')\n",
        " plt.xlabel('epoch')\n",
        " plt.legend(['train', 'test'], loc='upper left')\n",
        " plt.show()\n",
        " # summarize history for loss\n",
        " plt.plot(history.history['loss'])\n",
        " plt.plot(history.history['val_loss'])\n",
        " plt.title('model loss')\n",
        " plt.ylabel('loss')\n",
        " plt.xlabel('epoch')\n",
        " plt.legend(['train', 'test'], loc='upper left')\n",
        " plt.show()"
      ]
    },
    {
      "cell_type": "code",
      "execution_count": 5,
      "id": "d44e252e",
      "metadata": {
        "colab": {
          "base_uri": "https://localhost:8080/"
        },
        "id": "d44e252e",
        "outputId": "ec00604c-caa7-4bbb-8d0f-976305da4984"
      },
      "outputs": [
        {
          "output_type": "stream",
          "name": "stdout",
          "text": [
            "Found 14630 files belonging to 3 classes.\n",
            "Found 1520 files belonging to 3 classes.\n"
          ]
        }
      ],
      "source": [
        "train_data = tf.keras.utils.image_dataset_from_directory(pathTrain,\n",
        "                                                        seed = 123, shuffle = True, image_size = (224,224),\n",
        "                                                        batch_size = 50)\n",
        "test_data = tf.keras.utils.image_dataset_from_directory(pathVal,\n",
        "                                                       seed = 123, shuffle = True, image_size =(224,224),\n",
        "                                                       batch_size = 50)"
      ]
    },
    {
      "cell_type": "code",
      "execution_count": 9,
      "id": "458f871a",
      "metadata": {
        "id": "458f871a",
        "outputId": "9433ed72-1a32-45bd-fb6a-6430de075219",
        "colab": {
          "base_uri": "https://localhost:8080/"
        }
      },
      "outputs": [
        {
          "output_type": "stream",
          "name": "stdout",
          "text": [
            "Model: \"sequential_1\"\n",
            "_________________________________________________________________\n",
            " Layer (type)                Output Shape              Param #   \n",
            "=================================================================\n",
            " conv2d_2 (Conv2D)           (None, 222, 222, 8)       224       \n",
            "                                                                 \n",
            " conv2d_3 (Conv2D)           (None, 220, 220, 16)      1168      \n",
            "                                                                 \n",
            " max_pooling2d_1 (MaxPooling  (None, 73, 73, 16)       0         \n",
            " 2D)                                                             \n",
            "                                                                 \n",
            " flatten_1 (Flatten)         (None, 85264)             0         \n",
            "                                                                 \n",
            " dense_2 (Dense)             (None, 32)                2728480   \n",
            "                                                                 \n",
            " dropout_1 (Dropout)         (None, 32)                0         \n",
            "                                                                 \n",
            " dense_3 (Dense)             (None, 3)                 99        \n",
            "                                                                 \n",
            "=================================================================\n",
            "Total params: 2,729,971\n",
            "Trainable params: 2,729,971\n",
            "Non-trainable params: 0\n",
            "_________________________________________________________________\n"
          ]
        }
      ],
      "source": [
        "model = Sequential()\n",
        "model.add(Input(shape=(224,224,3)))\n",
        "\n",
        "model.add(Convolution2D(8, kernel_size = (3, 3), activation='relu' ))\n",
        "model.add(Convolution2D(16, kernel_size = (3, 3), activation='relu' ))\n",
        "\n",
        "model.add( MaxPooling2D((3, 3)))\n",
        "\n",
        "model.add(Flatten())\n",
        "\n",
        "model.add(Dense(units=32, activation=\"relu\"))\n",
        "\n",
        "model.add(Dropout(0.5))\n",
        "\n",
        "model.add(Dense(units=3, activation=\"softmax\"))\n",
        "\n",
        "model.summary() "
      ]
    },
    {
      "cell_type": "code",
      "execution_count": 10,
      "id": "a456999d",
      "metadata": {
        "id": "a456999d",
        "outputId": "6209c6b9-dd64-4c2f-957a-e77be58d1126",
        "colab": {
          "base_uri": "https://localhost:8080/",
          "height": 955
        }
      },
      "outputs": [
        {
          "output_type": "stream",
          "name": "stdout",
          "text": [
            "Epoch 1/10\n",
            "293/293 [==============================] - 1213s 4s/step - loss: 8.7672 - accuracy: 0.3473 - val_loss: 1.0988 - val_accuracy: 0.3355\n",
            "Epoch 2/10\n",
            "293/293 [==============================] - 48s 159ms/step - loss: 1.0979 - accuracy: 0.3522 - val_loss: 1.0992 - val_accuracy: 0.3355\n",
            "Epoch 3/10\n",
            "293/293 [==============================] - 50s 166ms/step - loss: 1.0979 - accuracy: 0.3522 - val_loss: 1.0993 - val_accuracy: 0.3355\n",
            "Epoch 4/10\n",
            "293/293 [==============================] - 48s 159ms/step - loss: 1.0979 - accuracy: 0.3522 - val_loss: 1.0992 - val_accuracy: 0.3355\n",
            "Epoch 5/10\n",
            "293/293 [==============================] - 49s 164ms/step - loss: 1.0979 - accuracy: 0.3522 - val_loss: 1.0993 - val_accuracy: 0.3355\n",
            "Epoch 6/10\n",
            "293/293 [==============================] - 48s 158ms/step - loss: 1.0979 - accuracy: 0.3522 - val_loss: 1.0993 - val_accuracy: 0.3355\n",
            "Epoch 7/10\n",
            "293/293 [==============================] - 50s 168ms/step - loss: 1.0979 - accuracy: 0.3522 - val_loss: 1.0993 - val_accuracy: 0.3355\n",
            "Epoch 8/10\n",
            "293/293 [==============================] - 47s 158ms/step - loss: 1.0979 - accuracy: 0.3522 - val_loss: 1.0993 - val_accuracy: 0.3355\n",
            "Epoch 9/10\n",
            "293/293 [==============================] - 49s 163ms/step - loss: 1.0979 - accuracy: 0.3522 - val_loss: 1.0993 - val_accuracy: 0.3355\n",
            "Epoch 10/10\n",
            "293/293 [==============================] - 47s 159ms/step - loss: 1.0979 - accuracy: 0.3522 - val_loss: 1.0993 - val_accuracy: 0.3355\n"
          ]
        },
        {
          "output_type": "display_data",
          "data": {
            "text/plain": [
              "<Figure size 432x288 with 1 Axes>"
            ],
            "image/png": "[encoded data removed]"
          },
          "metadata": {
            "needs_background": "light"
          }
        },
        {
          "output_type": "display_data",
          "data": {
            "text/plain": [
              "<Figure size 432x288 with 1 Axes>"
            ],
            "image/png": "[encoded data removed]"
          },
          "metadata": {
            "needs_background": "light"
          }
        },
        {
          "output_type": "stream",
          "name": "stdout",
          "text": [
            "batch_size= 500 epochs= 10\n",
            "Temps d apprentissage 1718.5978556489995\n"
          ]
        }
      ],
      "source": [
        "from tensorflow.keras.optimizers import  Adam\n",
        "\n",
        "model.compile(loss='sparse_categorical_crossentropy', optimizer='adam', metrics=['accuracy'])\n",
        "\n",
        "tps1 = time.perf_counter()\n",
        "\n",
        "history = model.fit(train_data, batch_size=500, epochs=10,verbose=1,validation_data=test_data)\n",
        "\n",
        "tps2 = time.perf_counter()\n",
        "\n",
        "\n",
        "affiche(history) #donnee en annexe\n",
        "print('batch_size=', 500, 'epochs=', 10)\n",
        "print('Temps d apprentissage',tps2 - tps1)"
      ]
    },
    {
      "cell_type": "code",
      "execution_count": null,
      "id": "416259b9",
      "metadata": {
        "id": "416259b9"
      },
      "outputs": [],
      "source": []
    }
  ],
  "metadata": {
    "kernelspec": {
      "display_name": "Python 3 (ipykernel)",
      "language": "python",
      "name": "python3"
    },
    "language_info": {
      "codemirror_mode": {
        "name": "ipython",
        "version": 3
      },
      "file_extension": ".py",
      "mimetype": "text/x-python",
      "name": "python",
      "nbconvert_exporter": "python",
      "pygments_lexer": "ipython3",
      "version": "3.9.13"
    },
    "varInspector": {
      "cols": {
        "lenName": 16,
        "lenType": 16,
        "lenVar": 40
      },
      "kernels_config": {
        "python": {
          "delete_cmd_postfix": "",
          "delete_cmd_prefix": "del ",
          "library": "var_list.py",
          "varRefreshCmd": "print(var_dic_list())"
        },
        "r": {
          "delete_cmd_postfix": ") ",
          "delete_cmd_prefix": "rm(",
          "library": "var_list.r",
          "varRefreshCmd": "cat(var_dic_list()) "
        }
      },
      "types_to_exclude": [
        "module",
        "function",
        "builtin_function_or_method",
        "instance",
        "_Feature"
      ],
      "window_display": false
    },
    "colab": {
      "provenance": [],
      "include_colab_link": true
    },
    "accelerator": "GPU",
    "gpuClass": "standard"
  },
  "nbformat": 4,
  "nbformat_minor": 5
}