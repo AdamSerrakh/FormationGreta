{
 "cells": [
  {
   "cell_type": "code",
   "execution_count": 2,
   "metadata": {
    "id": "M_MvUNbwAzyM"
   },
   "outputs": [],
   "source": [
    "import numpy as np"
   ]
  },
  {
   "cell_type": "markdown",
   "metadata": {
    "id": "OXI9gLlFd4yM"
   },
   "source": [
    "### Exercice 1:\n",
    "Create a 1-dimensional NumPy array with 5 integers from 0 to 4."
   ]
  },
  {
   "cell_type": "code",
   "execution_count": 2,
   "metadata": {
    "id": "MRBvaaSCVZOS"
   },
   "outputs": [],
   "source": []
  },
  {
   "cell_type": "markdown",
   "metadata": {
    "id": "uxF4VxyNdE1f"
   },
   "source": [
    " ### Exercice 2:\n",
    " Create a 2-dimensional NumPy array with shape (2, 3) containing only ones."
   ]
  },
  {
   "cell_type": "code",
   "execution_count": 2,
   "metadata": {
    "id": "cgh73GheVj0G"
   },
   "outputs": [],
   "source": []
  },
  {
   "cell_type": "markdown",
   "metadata": {
    "id": "5lZ_Kas9dF_a"
   },
   "source": [
    "### Exercice 3:\n",
    "Create a 3-dimensional NumPy array with shape (2, 3, 4) containing only zeros."
   ]
  },
  {
   "cell_type": "code",
   "execution_count": 2,
   "metadata": {
    "id": "7xaPkSPDVlCS"
   },
   "outputs": [],
   "source": []
  },
  {
   "cell_type": "markdown",
   "metadata": {
    "id": "0xD6apZpdL4u"
   },
   "source": [
    "### Exercice 4:\n",
    "Create a 2-dimensional NumPy array with shape (3, 4) containing random integers between 0 and 9."
   ]
  },
  {
   "cell_type": "code",
   "execution_count": 2,
   "metadata": {
    "id": "piZgXDK4Prda"
   },
   "outputs": [],
   "source": []
  },
  {
   "cell_type": "markdown",
   "metadata": {
    "id": "-Mln-90sdNpw"
   },
   "source": [
    "### Exercice 5:\n",
    "Create a 2-dimensional NumPy array with shape (3, 4) and find its dimensions and size."
   ]
  },
  {
   "cell_type": "code",
   "execution_count": 2,
   "metadata": {
    "id": "zpE8Tj1mPr2o"
   },
   "outputs": [],
   "source": []
  },
  {
   "cell_type": "markdown",
   "metadata": {
    "id": "JECID7F1dOUe"
   },
   "source": [
    "### Exercice 6:\n",
    "Create a 2-dimensional NumPy array with shape (3, 4) and calculate the sum of all its elements."
   ]
  },
  {
   "cell_type": "code",
   "execution_count": 2,
   "metadata": {
    "id": "j8fNeTqiPsiI"
   },
   "outputs": [],
   "source": []
  },
  {
   "cell_type": "markdown",
   "metadata": {
    "id": "FUEt_rFpdZay"
   },
   "source": [
    "### Exercice 7:\n",
    "Create a 2-dimensional NumPy array with shape (3, 4) and find the minimum and maximum value in each row."
   ]
  },
  {
   "cell_type": "code",
   "execution_count": 2,
   "metadata": {
    "id": "bgsH9u_UPtCs"
   },
   "outputs": [],
   "source": []
  },
  {
   "cell_type": "code",
   "execution_count": 2,
   "metadata": {
    "id": "oIZxRv6aFZRm"
   },
   "outputs": [],
   "source": []
  },
  {
   "cell_type": "markdown",
   "metadata": {
    "id": "LCHEvMbLdcWg"
   },
   "source": [
    "### Exercice 8:\n",
    "Create a 2-dimensional NumPy array with shape (3, 4) and replace all the odd numbers with -1."
   ]
  },
  {
   "cell_type": "code",
   "execution_count": 2,
   "metadata": {
    "id": "cnh8SjuSPtjP"
   },
   "outputs": [],
   "source": []
  },
  {
   "cell_type": "markdown",
   "metadata": {
    "id": "ZiFcLInIdfOK"
   },
   "source": [
    "### Exercice 9:\n",
    "Create a 2-dimensional NumPy array with shape (3, 4) and extract the elements in the second and third row and the second and third column."
   ]
  },
  {
   "cell_type": "code",
   "execution_count": null,
   "metadata": {
    "id": "ZaVIzEeeWA_H"
   },
   "outputs": [],
   "source": []
  },
  {
   "cell_type": "markdown",
   "metadata": {
    "id": "xmRnLq1bdhaN"
   },
   "source": [
    "### Exercice 10:\n",
    "Create a 2-dimensional NumPy array with shape (3, 4) and multiply each element by 2."
   ]
  },
  {
   "cell_type": "code",
   "execution_count": null,
   "metadata": {
    "id": "uNShpo4RKl-J"
   },
   "outputs": [],
   "source": []
  },
  {
   "cell_type": "code",
   "execution_count": null,
   "metadata": {
    "id": "KoyWPXVDYpY8"
   },
   "outputs": [],
   "source": []
  }
 ],
 "metadata": {
  "colab": {
   "provenance": []
  },
  "kernelspec": {
   "display_name": "Python 3 (ipykernel)",
   "language": "python",
   "name": "python3"
  },
  "language_info": {
   "codemirror_mode": {
    "name": "ipython",
    "version": 3
   },
   "file_extension": ".py",
   "mimetype": "text/x-python",
   "name": "python",
   "nbconvert_exporter": "python",
   "pygments_lexer": "ipython3",
   "version": "3.9.13"
  },
  "varInspector": {
   "cols": {
    "lenName": 16,
    "lenType": 16,
    "lenVar": 40
   },
   "kernels_config": {
    "python": {
     "delete_cmd_postfix": "",
     "delete_cmd_prefix": "del ",
     "library": "var_list.py",
     "varRefreshCmd": "print(var_dic_list())"
    },
    "r": {
     "delete_cmd_postfix": ") ",
     "delete_cmd_prefix": "rm(",
     "library": "var_list.r",
     "varRefreshCmd": "cat(var_dic_list()) "
    }
   },
   "types_to_exclude": [
    "module",
    "function",
    "builtin_function_or_method",
    "instance",
    "_Feature"
   ],
   "window_display": false
  }
 },
 "nbformat": 4,
 "nbformat_minor": 1
}
