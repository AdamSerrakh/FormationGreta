{
 "cells": [
  {
   "cell_type": "code",
   "execution_count": 2,
   "id": "cd3da241",
   "metadata": {},
   "outputs": [],
   "source": [
    "import numpy as np\n",
    "import time\n",
    "np.random.seed(123)\n",
    "from matplotlib import pyplot as plt\n",
    "from sklearn.model_selection import train_test_split\n",
    "from sklearn.metrics import confusion_matrix\n",
    "import tensorflow as tf\n",
    "from tensorflow.keras import Sequential, Model, Input\n",
    "from tensorflow.keras.layers import Conv2DTranspose, Reshape, Dense, Activation, Flatten, Dropout, Convolution2D, MaxPooling2D, Input\n",
    "from matplotlib import pyplot"
   ]
  },
  {
   "cell_type": "code",
   "execution_count": 3,
   "id": "8055e607",
   "metadata": {},
   "outputs": [],
   "source": [
    "def affiche(history):\n",
    " # summarize history for accuracy\n",
    " plt.plot(history.history['accuracy'])\n",
    " plt.plot(history.history['val_accuracy'])\n",
    " plt.title('model accuracy')\n",
    " plt.ylabel('accuracy')\n",
    " plt.xlabel('epoch')\n",
    " plt.legend(['train', 'test'], loc='upper left')\n",
    " plt.show()\n",
    " # summarize history for loss\n",
    " plt.plot(history.history['loss'])\n",
    " plt.plot(history.history['val_loss'])\n",
    " plt.title('model loss')\n",
    " plt.ylabel('loss')\n",
    " plt.xlabel('epoch')\n",
    " plt.legend(['train', 'test'], loc='upper left')\n",
    " plt.show()"
   ]
  },
  {
   "cell_type": "code",
   "execution_count": 4,
   "id": "d44e252e",
   "metadata": {},
   "outputs": [
    {
     "name": "stdout",
     "output_type": "stream",
     "text": [
      "Found 14630 files belonging to 3 classes.\n",
      "Found 1500 files belonging to 3 classes.\n"
     ]
    }
   ],
   "source": [
    "train_data = tf.keras.utils.image_dataset_from_directory(\"../BaseDonnee/afhq/train\",\n",
    "                                                        seed = 123, shuffle = True, image_size = (224,224),\n",
    "                                                        batch_size = 50)\n",
    "test_data = tf.keras.utils.image_dataset_from_directory(\"../BaseDonnee/afhq/val\",\n",
    "                                                       seed = 123, shuffle = True, image_size =(224,224),\n",
    "                                                       batch_size = 50)"
   ]
  },
  {
   "cell_type": "code",
   "execution_count": 5,
   "id": "458f871a",
   "metadata": {},
   "outputs": [
    {
     "name": "stdout",
     "output_type": "stream",
     "text": [
      "Model: \"sequential\"\n",
      "_________________________________________________________________\n",
      " Layer (type)                Output Shape              Param #   \n",
      "=================================================================\n",
      " conv2d (Conv2D)             (None, 222, 222, 32)      896       \n",
      "                                                                 \n",
      " conv2d_1 (Conv2D)           (None, 220, 220, 64)      18496     \n",
      "                                                                 \n",
      " conv2d_2 (Conv2D)           (None, 218, 218, 128)     73856     \n",
      "                                                                 \n",
      " conv2d_3 (Conv2D)           (None, 216, 216, 256)     295168    \n",
      "                                                                 \n",
      " max_pooling2d (MaxPooling2D  (None, 72, 72, 256)      0         \n",
      " )                                                               \n",
      "                                                                 \n",
      " flatten (Flatten)           (None, 1327104)           0         \n",
      "                                                                 \n",
      " dense (Dense)               (None, 1024)              1358955520\n",
      "                                                                 \n",
      " dropout (Dropout)           (None, 1024)              0         \n",
      "                                                                 \n",
      " dense_1 (Dense)             (None, 3)                 3075      \n",
      "                                                                 \n",
      "=================================================================\n",
      "Total params: 1,359,347,011\n",
      "Trainable params: 1,359,347,011\n",
      "Non-trainable params: 0\n",
      "_________________________________________________________________\n"
     ]
    }
   ],
   "source": [
    "model = Sequential()\n",
    "model.add(Input(shape=(224,224,3)))\n",
    "\n",
    "model.add(Convolution2D(32, kernel_size = (3, 3), activation='relu' ))\n",
    "model.add(Convolution2D(64, kernel_size = (3, 3), activation='relu' ))\n",
    "model.add(Convolution2D(128, kernel_size = (3, 3), activation='relu' ))\n",
    "model.add(Convolution2D(256, kernel_size = (3, 3), activation='relu' ))\n",
    "\n",
    "model.add( MaxPooling2D((3, 3)))\n",
    "\n",
    "model.add(Flatten())\n",
    "\n",
    "model.add(Dense(units=1024,activation=\"relu\"))\n",
    "\n",
    "model.add(Dropout(0.5))\n",
    "\n",
    "model.add(Dense(units=3, activation=\"softmax\"))\n",
    "\n",
    "model.summary() "
   ]
  },
  {
   "cell_type": "code",
   "execution_count": null,
   "id": "a456999d",
   "metadata": {},
   "outputs": [
    {
     "name": "stdout",
     "output_type": "stream",
     "text": [
      "Epoch 1/10\n"
     ]
    }
   ],
   "source": [
    "from tensorflow.keras.optimizers import  Adam\n",
    "\n",
    "model.compile(loss='sparse_categorical_crossentropy', optimizer='adam', metrics=['accuracy'])\n",
    "\n",
    "tps1 = time.perf_counter()\n",
    "\n",
    "history =model.fit(train_data, batch_size=500, epochs=10,verbose=1,validation_data=test_data)\n",
    "\n",
    "tps2 = time.perf_counter()\n",
    "\n",
    "\n",
    "affiche(history) #donnee en annexe\n",
    "print('lr=',lr,'batch_size=',batch_size, 'epochs=',epochs)\n",
    "print('Temps d apprentissage',tps2 - tps1)"
   ]
  },
  {
   "cell_type": "code",
   "execution_count": null,
   "id": "416259b9",
   "metadata": {},
   "outputs": [],
   "source": []
  }
 ],
 "metadata": {
  "kernelspec": {
   "display_name": "Python 3 (ipykernel)",
   "language": "python",
   "name": "python3"
  },
  "language_info": {
   "codemirror_mode": {
    "name": "ipython",
    "version": 3
   },
   "file_extension": ".py",
   "mimetype": "text/x-python",
   "name": "python",
   "nbconvert_exporter": "python",
   "pygments_lexer": "ipython3",
   "version": "3.9.13"
  }
 },
 "nbformat": 4,
 "nbformat_minor": 5
}
