{
 "cells": [
  {
   "cell_type": "code",
   "execution_count": null,
   "id": "bc96bff1",
   "metadata": {},
   "outputs": [],
   "source": [
    "def pgcd(a,b):\n",
    "    #if (b>a):\n",
    "        #a,b=b,a\n",
    "    while (a%b != 0):\n",
    "        a,b=b,a%b\n",
    "    return b"
   ]
  },
  {
   "cell_type": "code",
   "execution_count": null,
   "id": "10a408fc",
   "metadata": {},
   "outputs": [],
   "source": [
    "pgcd(17,4)"
   ]
  },
  {
   "cell_type": "code",
   "execution_count": 3,
   "id": "d908ac3a",
   "metadata": {},
   "outputs": [],
   "source": [
    "def SommeLigne(m):\n",
    "    return sum(m)"
   ]
  },
  {
   "cell_type": "code",
   "execution_count": 4,
   "id": "7df94ee5",
   "metadata": {},
   "outputs": [],
   "source": [
    "import numpy as np"
   ]
  },
  {
   "cell_type": "code",
   "execution_count": 5,
   "id": "b76a62ca",
   "metadata": {},
   "outputs": [
    {
     "data": {
      "text/plain": [
       "52"
      ]
     },
     "execution_count": 5,
     "metadata": {},
     "output_type": "execute_result"
    }
   ],
   "source": [
    "T = np.array([5,2,8,17,6,14])\n",
    "x = SommeLigne(T)\n",
    "x"
   ]
  },
  {
   "cell_type": "code",
   "execution_count": 6,
   "id": "2133b4bf",
   "metadata": {},
   "outputs": [],
   "source": [
    "def is_magic(m):\n",
    "    y,z=0,0\n",
    "    x = SommeLigne(m[0])\n",
    "    m1=m.T\n",
    "    for i in range(len(m)):\n",
    "        if SommeLigne(m[i])!= x or SommeLigne(m1[i])!= x:\n",
    "            return False\n",
    "        y += m[i,i]\n",
    "        z += m[i,(-1-i)]\n",
    "    if y!=x or z!=x:\n",
    "        return False\n",
    "    return True"
   ]
  },
  {
   "cell_type": "code",
   "execution_count": 7,
   "id": "9a0bc43c",
   "metadata": {},
   "outputs": [],
   "source": [
    "T1 = np.array([[71,89,17], [5,59,113],[101,29,47]])"
   ]
  },
  {
   "cell_type": "code",
   "execution_count": 8,
   "id": "a4e17553",
   "metadata": {},
   "outputs": [
    {
     "name": "stdout",
     "output_type": "stream",
     "text": [
      "True\n"
     ]
    }
   ],
   "source": [
    "print(is_magic(T1))"
   ]
  },
  {
   "cell_type": "code",
   "execution_count": null,
   "id": "ebfe511b",
   "metadata": {},
   "outputs": [],
   "source": []
  }
 ],
 "metadata": {
  "kernelspec": {
   "display_name": "Python 3 (ipykernel)",
   "language": "python",
   "name": "python3"
  },
  "language_info": {
   "codemirror_mode": {
    "name": "ipython",
    "version": 3
   },
   "file_extension": ".py",
   "mimetype": "text/x-python",
   "name": "python",
   "nbconvert_exporter": "python",
   "pygments_lexer": "ipython3",
   "version": "3.9.13"
  }
 },
 "nbformat": 4,
 "nbformat_minor": 5
}
