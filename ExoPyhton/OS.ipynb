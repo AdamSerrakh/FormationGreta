{
 "cells": [
  {
   "cell_type": "markdown",
   "metadata": {},
   "source": [
    "# OS\n"
   ]
  },
  {
   "cell_type": "markdown",
   "metadata": {},
   "source": [
    "## Python dispose d'un module qui permet de s'affranchir de la connaissance du système d'exploitation pour effectuer des opérations sur les fichiers"
   ]
  },
  {
   "cell_type": "markdown",
   "metadata": {},
   "source": [
    "### importer le module os :"
   ]
  },
  {
   "cell_type": "code",
   "execution_count": 4,
   "metadata": {},
   "outputs": [],
   "source": [
    "import os"
   ]
  },
  {
   "cell_type": "markdown",
   "metadata": {},
   "source": [
    "### Obtenir le répertoire courant : GETCWD"
   ]
  },
  {
   "cell_type": "code",
   "execution_count": 5,
   "metadata": {},
   "outputs": [
    {
     "data": {
      "text/plain": [
       "'C:\\\\Users\\\\PC2\\\\environments'"
      ]
     },
     "execution_count": 5,
     "metadata": {},
     "output_type": "execute_result"
    }
   ],
   "source": [
    "os.getcwd()"
   ]
  },
  {
   "cell_type": "markdown",
   "metadata": {},
   "source": [
    "NB : Une alternative avec le module path \n",
    ">from pathlib import Path\n",
    "\n",
    ">Path.cwd()"
   ]
  },
  {
   "cell_type": "code",
   "execution_count": 6,
   "metadata": {},
   "outputs": [
    {
     "data": {
      "text/plain": [
       "WindowsPath('C:/Users/PC2/environments')"
      ]
     },
     "execution_count": 6,
     "metadata": {},
     "output_type": "execute_result"
    }
   ],
   "source": [
    "from pathlib import Path\n",
    "Path.cwd()"
   ]
  },
  {
   "cell_type": "markdown",
   "metadata": {},
   "source": [
    "### Changer de repertoire : CHDIR"
   ]
  },
  {
   "cell_type": "code",
   "execution_count": 7,
   "metadata": {},
   "outputs": [
    {
     "data": {
      "text/plain": [
       "'C:\\\\Users\\\\PC2\\\\environments'"
      ]
     },
     "execution_count": 7,
     "metadata": {},
     "output_type": "execute_result"
    }
   ],
   "source": [
    "os.chdir('/Users/PC2/environments')\n",
    "os.getcwd()\n"
   ]
  },
  {
   "cell_type": "markdown",
   "metadata": {},
   "source": [
    "### Créer un répertoire en vérifiant s'il existe avant... MKDIR"
   ]
  },
  {
   "cell_type": "code",
   "execution_count": 8,
   "metadata": {},
   "outputs": [
    {
     "name": "stdout",
     "output_type": "stream",
     "text": [
      "le répertoire NouveauRepertoire a été créé : True\n"
     ]
    }
   ],
   "source": [
    "unrepertoire = 'NouveauRepertoire'\n",
    "if  not os.path.exists(unrepertoire):\n",
    "    os.mkdir(unrepertoire)\n",
    "    print(f'le répertoire {unrepertoire} a été créé :',os.path.isdir(unrepertoire))\n",
    "else :\n",
    "    print(f'le répertoire {unrepertoire} existe déjà:',os.path.isdir(unrepertoire))\n",
    "    \n"
   ]
  },
  {
   "cell_type": "markdown",
   "metadata": {},
   "source": [
    "### Lister les fichiers et répertoires : LISTDIR"
   ]
  },
  {
   "cell_type": "code",
   "execution_count": 9,
   "metadata": {},
   "outputs": [
    {
     "name": "stdout",
     "output_type": "stream",
     "text": [
      "['.ipynb_checkpoints', 'ABC class.ipynb', 'biblio', 'Bits.ipynb', 'Boolean.ipynb', 'ByteOperations.ipynb', 'CallByObjectReference.ipynb', 'Complexes.ipynb', 'Copy et deepcopy.ipynb', 'DateTimeCalendar.ipynb', 'decorateur.ipynb', 'Dictionnaire.ipynb', 'Dir.ipynb', 'djangoenv', 'DuckTyping.ipynb', 'Ensemble SET.ipynb', 'Entiers.ipynb', 'Enumerate.ipynb', 'essai', 'Exemples du 031121.ipynb', 'exo_martin_histogramme.ipynb', 'ExtensionDeClasse.ipynb', 'Fibonacci.ipynb', 'Flottants.ipynb', 'GlobalLocal.ipynb', 'Générateur Itérateurs.ipynb', 'Internationalisation.ipynb', 'jupenv', 'Listes.ipynb', 'Mangling.ipynb', 'MapFilterReduceLambda.ipynb', 'MarkdownExemple.ipynb', 'Methode Resolution Order.ipynb', 'nouveau', 'NouveauRepertoire', 'Observer Pattern.ipynb', 'OS.ipynb', 'Property.ipynb', 'RMO.PNG', 'seance2.ipynb', 'Singleton.ipynb', 'Strings.ipynb', 'séance 3.ipynb', 'séance 4.ipynb', 'séance 5.ipynb', 'séance 8.ipynb', 'Séance1.ipynb', 'TryExcept.ipynb', 'Underscore.ipynb', 'Untitled.ipynb', 'Untitled1.ipynb', 'Untitled10.ipynb', 'Untitled11.ipynb', 'Untitled12.ipynb', 'Untitled2.ipynb', 'Untitled3.ipynb', 'Untitled4.ipynb', 'Untitled5.ipynb', 'Untitled6.ipynb', 'Untitled7.ipynb', 'Untitled8.ipynb', 'Untitled9.ipynb', 'Zip.ipynb']\n"
     ]
    },
    {
     "data": {
      "text/plain": [
       "[]"
      ]
     },
     "execution_count": 9,
     "metadata": {},
     "output_type": "execute_result"
    }
   ],
   "source": [
    "print(os.listdir())\n",
    "os.listdir('NouveauRepertoire/') #On vérifie que le fichier créé existe"
   ]
  },
  {
   "cell_type": "markdown",
   "metadata": {},
   "source": [
    "### Créer un fichier OPEN"
   ]
  },
  {
   "cell_type": "code",
   "execution_count": 10,
   "metadata": {
    "scrolled": true
   },
   "outputs": [
    {
     "name": "stdout",
     "output_type": "stream",
     "text": [
      "['monfichier.amoi']\n"
     ]
    }
   ],
   "source": [
    "with open('NouveauRepertoire/monfichier.amoi', 'w'):\n",
    "      print(os.listdir('NouveauRepertoire/'))"
   ]
  },
  {
   "cell_type": "code",
   "execution_count": 11,
   "metadata": {},
   "outputs": [],
   "source": [
    "open('NouveauRepertoire/monfichier3.amoi','w').close()"
   ]
  },
  {
   "cell_type": "markdown",
   "metadata": {},
   "source": [
    "### Supprimer le fichier REMOVE et le répertoire RMDIR\n",
    "NB: Pour éviter tout accident, un répertoire ne peut être supprimé que s'il ne contient plus de fichier"
   ]
  },
  {
   "cell_type": "code",
   "execution_count": 12,
   "metadata": {},
   "outputs": [
    {
     "name": "stdout",
     "output_type": "stream",
     "text": [
      "fichier monfichier.amoi supprimé\n",
      "fichier monfichier3.amoi supprimé\n"
     ]
    }
   ],
   "source": [
    "if os.path.isdir('NouveauRepertoire/') and len(os.listdir('NouveauRepertoire/')):\n",
    "    for unfichier in os.listdir('NouveauRepertoire/'):\n",
    "        os.remove('NouveauRepertoire/'+unfichier) #On supprime les fichiers du répertoire\n",
    "        print(f'fichier {unfichier} supprimé')\n",
    "else :\n",
    "    print('aucun fichier à supprimer')\n"
   ]
  },
  {
   "cell_type": "code",
   "execution_count": 13,
   "metadata": {},
   "outputs": [
    {
     "name": "stdout",
     "output_type": "stream",
     "text": [
      "répertoire supprimé\n"
     ]
    }
   ],
   "source": [
    "if os.path.isdir('NouveauRepertoire/'):\n",
    "    os.rmdir('NouveauRepertoire/')\n",
    "    print('répertoire supprimé')\n",
    "else :\n",
    "    print('aucun répertoire à supprimer')"
   ]
  },
  {
   "cell_type": "code",
   "execution_count": null,
   "metadata": {},
   "outputs": [],
   "source": []
  },
  {
   "cell_type": "code",
   "execution_count": null,
   "metadata": {},
   "outputs": [],
   "source": []
  }
 ],
 "metadata": {
  "kernelspec": {
   "display_name": "Python 3",
   "language": "python",
   "name": "python3"
  },
  "language_info": {
   "codemirror_mode": {
    "name": "ipython",
    "version": 3
   },
   "file_extension": ".py",
   "mimetype": "text/x-python",
   "name": "python",
   "nbconvert_exporter": "python",
   "pygments_lexer": "ipython3",
   "version": "3.7.4"
  }
 },
 "nbformat": 4,
 "nbformat_minor": 2
}
