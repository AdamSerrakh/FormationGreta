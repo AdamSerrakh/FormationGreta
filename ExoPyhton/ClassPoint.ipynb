{
 "cells": [
  {
   "cell_type": "code",
   "execution_count": 1,
   "id": "2b93a924",
   "metadata": {},
   "outputs": [
    {
     "name": "stdout",
     "output_type": "stream",
     "text": [
      "absisse 0.0 ordonnée 0.0\n",
      "Point(0.0,0.0)\n",
      "absisse -1.0 ordonnée 0.0\n",
      "absisse 0.0 ordonnée 0.5\n",
      "1.0\n"
     ]
    }
   ],
   "source": [
    "import math\n",
    "\n",
    "class Point:\n",
    "    def __init__(self, ab, ordo):\n",
    "        #assert type(ab)==float and type(ordo)==float, \"Les coordonnées doivent être exprimée en flotants\"\n",
    "        self.x = float(ab)\n",
    "        self.y = float(ordo)\n",
    "    def __str__(self):\n",
    "        return f'absisse {self.x} ordonnée {self.y}'\n",
    "    def __repr__(self):\n",
    "        return f'{__class__.__name__}({self.x},{self.y})'\n",
    "    def move(self, rho, theta):\n",
    "        \"\"\" l'angle thetha est eprimé en degrés \"\"\"\n",
    "        return Point(round(self.x + rho * math.cos(math.pi*theta/180),5), round(self.y + rho * math.sin(math.pi*theta/180),5))\n",
    "    def milieu(self, unpoint):\n",
    "        return Point((self.x+unpoint.x)/2,(self.y+unpoint.y)/2)\n",
    "    def distance(self, unpoint):\n",
    "        return math.sqrt((self.x-unpoint.x)**2+(self.y-unpoint.y)**2)\n",
    "    \n",
    "    \n",
    "def main():\n",
    "    monpoint = Point(0,0)\n",
    "    print(monpoint)\n",
    "    print(repr(monpoint))\n",
    "    print(monpoint.move(1,180))\n",
    "    point2 = Point(0,1)\n",
    "    print(monpoint.milieu(point2))\n",
    "    print(monpoint.distance(point2))\n",
    "\n",
    "if __name__ == '__main__':\n",
    "    main()"
   ]
  },
  {
   "cell_type": "code",
   "execution_count": null,
   "id": "cc125152",
   "metadata": {},
   "outputs": [],
   "source": []
  }
 ],
 "metadata": {
  "kernelspec": {
   "display_name": "Python 3 (ipykernel)",
   "language": "python",
   "name": "python3"
  },
  "language_info": {
   "codemirror_mode": {
    "name": "ipython",
    "version": 3
   },
   "file_extension": ".py",
   "mimetype": "text/x-python",
   "name": "python",
   "nbconvert_exporter": "python",
   "pygments_lexer": "ipython3",
   "version": "3.9.13"
  }
 },
 "nbformat": 4,
 "nbformat_minor": 5
}
