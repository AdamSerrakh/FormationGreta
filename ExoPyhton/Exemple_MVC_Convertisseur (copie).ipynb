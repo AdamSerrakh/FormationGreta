{
 "cells": [
  {
   "cell_type": "code",
   "execution_count": 161,
   "metadata": {},
   "outputs": [
    {
     "ename": "SyntaxError",
     "evalue": "invalid syntax (<ipython-input-161-9f5174f782c6>, line 24)",
     "output_type": "error",
     "traceback": [
      "\u001b[1;36m  File \u001b[1;32m\"<ipython-input-161-9f5174f782c6>\"\u001b[1;36m, line \u001b[1;32m24\u001b[0m\n\u001b[1;33m    if taux == None\u001b[0m\n\u001b[1;37m                   ^\u001b[0m\n\u001b[1;31mSyntaxError\u001b[0m\u001b[1;31m:\u001b[0m invalid syntax\n"
     ]
    }
   ],
   "source": [
    "import sys\n",
    "import tkinter as tk\n",
    "\n",
    "class Convertisseur:\n",
    "    \"\"\"\n",
    "      le modèle a une existence indépendante : il ignore tout tant de la vue\n",
    "      que du contrôleur\n",
    "    \"\"\"\n",
    "    def __init__(self, dev1=\"EUR\", dev2=\"USD\", taux = None):\n",
    "        # le taux de conversion de dev1 en dev2\n",
    "        \n",
    "        # le nom de la devise 1\n",
    "        self.dev1=dev1\n",
    "        # le nom de la devise 2\n",
    "        self.dev2=dev2\n",
    "        self.taux = self.calcul_taux(taux = taux)\n",
    "        \n",
    "    def convertir(self, montant = 0):\n",
    "        # conversion d'un montant de devise1 en devise\n",
    "        return self.taux*montant\n",
    "    \n",
    "    def calcul_taux(self, taux = None):\n",
    "        # Prévu initialement pour utiliser le forex\n",
    "        if taux == None\n",
    "            nvTaux = 1.14\n",
    "        else :\n",
    "            nvTaux=taux\n",
    "        return nvTaux"
   ]
  },
  {
   "cell_type": "code",
   "execution_count": 163,
   "metadata": {},
   "outputs": [],
   "source": [
    "class Application_convertisseur(tk.Frame):\n",
    "    \"\"\"\n",
    "      la vue est initialisée par le controleur qui lui fournit le modèle et la root\n",
    "    \"\"\"    \n",
    "    def __init__(self, master=None, convertisseur = None):\n",
    "        super().__init__(master)\n",
    "        self.master = master\n",
    "        self.convertisseur = convertisseur\n",
    "        self.master.title(\"Convertisseur Model View Controler\")\n",
    "        self.pack()\n",
    "        self.create_widgets()\n",
    "        self.textmontant.insert(tk.END, 0)\n",
    "        \n",
    "    def create_widgets(self):\n",
    "        #Création des champs nécessaires\n",
    "        self.labeldevise1 = tk.Label(self)\n",
    "        self.textdevise1 = tk.Entry(self, width=4)\n",
    "        self.labeldevise2 = tk.Label(self)\n",
    "        self.textdevise2 = tk.Entry(self, width=4)\n",
    "        self.labelmontant = tk.Label(self)\n",
    "        self.textmontant = tk.Entry(self, width=8)\n",
    "        self.labeltaux = tk.Label(self, fg=\"green\")\n",
    "        self.labelresultat = tk.Label(self, fg=\"red\")\n",
    "        self.boutonraz = tk.Button(self, text=\"RAZ\")\n",
    "        self.boutoncalculer = tk.Button(self, text=\"Calculer\")\n",
    "        self.boutonquit = tk.Button(self, text=\"Quitter\", command=self.master.destroy)\n",
    "\n",
    "        #Présentation graphique\n",
    "        self.labeldevise1.grid(row=0, column=0, sticky=\"E\")\n",
    "        self.textdevise1.grid(row=0, column=1,columnspan=2, sticky=\"W\")\n",
    "        self.labeldevise2.grid(row=1, column=0, sticky=\"E\")\n",
    "        self.textdevise2.grid(row=1, column=1,columnspan=2, sticky=\"W\")\n",
    "        self.labeltaux.grid(row=2,column=0,columnspan=3)\n",
    "        self.labelmontant.grid(row=3,column = 0)\n",
    "        self.textmontant.grid(row=3,column = 2)\n",
    "        self.labelresultat.grid(row=4, column = 0, columnspan=3)\n",
    "        self.boutonraz.grid(row=5,column = 0)\n",
    "        self.boutoncalculer.grid(row=5,column = 1)\n",
    "        self.boutonquit.grid(row=5, column = 2)\n",
    "        \n",
    "        \n",
    "    def refresh_widgets(self):\n",
    "        print(\"refresh_widgets\")\n",
    "        self.labeldevise1['text']=\"Devise à changer :\"\n",
    "        self.labeldevise2['text']=\"Devise cible :\"\n",
    "        self.labelmontant['text']=\"Montant à convertir :\"\n",
    "        self.labeltaux['text']=f\"Taux {self.convertisseur.dev1} => {self.convertisseur.dev2} : {self.convertisseur.taux}\"\n",
    "        self.textdevise1.delete(0,tk.END)\n",
    "        self.textdevise1.insert(tk.END, self.convertisseur.dev1)\n",
    "        self.textdevise2.delete(0,tk.END)\n",
    "        self.textdevise2.insert(tk.END, self.convertisseur.dev2)\n",
    "        self.labelresultat['text']=\"Montant converti : {}\".format(str(round(self.convertisseur.convertir(float(self.textmontant.get())),2)))\n",
    "        \n",
    "        self.textmontant.focus_set()"
   ]
  },
  {
   "cell_type": "code",
   "execution_count": 164,
   "metadata": {},
   "outputs": [],
   "source": [
    "class Controleur_convertisseur:\n",
    "    \"\"\"\n",
    "      C'est dans le controleur que tout se calcule !\n",
    "    \"\"\"    \n",
    "    def __init__(self, root):\n",
    "        self.convertisseur = Convertisseur()\n",
    "        # on stock les valeurs par défaut des devises\n",
    "        self.raz = (self.convertisseur.dev1,self.convertisseur.dev2)\n",
    "        self.app = Application_convertisseur(master=root, convertisseur=self.convertisseur)\n",
    "        #Appels fonctions convertisseur spécifiques \n",
    "        self.app.boutoncalculer.config(command = self.calculconvertisseur)\n",
    "        self.app.boutonraz.config(command = self.razconvertisseur)\n",
    "        self.razconvertisseur()\n",
    "\n",
    "    def calculconvertisseur(self):\n",
    "        print(\"Controleur : calcul convertisseur\")\n",
    "        self.convertisseur.dev1=self.app.textdevise1.get()\n",
    "        self.convertisseur.dev2=self.app.textdevise2.get()\n",
    "        self.convertisseur.calcul_taux()\n",
    "        self.app.refresh_widgets()\n",
    "\n",
    "    def razconvertisseur(self):\n",
    "        print(\"Controleur : RAZ du convertisseur\")\n",
    "        self.convertisseur.dev1 = self.raz[0]\n",
    "        self.convertisseur.dev2 = self.raz[1]\n",
    "        self.convertisseur.calcul_taux()\n",
    "        self.app.textmontant.delete(0,tk.END)\n",
    "        self.app.textmontant.insert(tk.END, 0)\n",
    "        self.app.refresh_widgets() \n"
   ]
  },
  {
   "cell_type": "code",
   "execution_count": 165,
   "metadata": {},
   "outputs": [
    {
     "name": "stdout",
     "output_type": "stream",
     "text": [
      "Controleur : RAZ du convertisseur\n",
      "refresh_widgets\n",
      "Controleur : calcul convertisseur\n",
      "refresh_widgets\n",
      "Controleur : RAZ du convertisseur\n",
      "refresh_widgets\n",
      "Controleur : calcul convertisseur\n",
      "refresh_widgets\n",
      "Controleur : RAZ du convertisseur\n",
      "refresh_widgets\n",
      "Controleur : calcul convertisseur\n",
      "refresh_widgets\n",
      "Controleur : RAZ du convertisseur\n",
      "refresh_widgets\n",
      "Controleur : calcul convertisseur\n",
      "refresh_widgets\n"
     ]
    }
   ],
   "source": [
    "root = tk.Tk()\n",
    "controleur =  Controleur_convertisseur(root)\n",
    "root.mainloop()\n",
    "\n"
   ]
  },
  {
   "cell_type": "code",
   "execution_count": null,
   "metadata": {},
   "outputs": [],
   "source": []
  },
  {
   "cell_type": "code",
   "execution_count": null,
   "metadata": {},
   "outputs": [],
   "source": []
  },
  {
   "cell_type": "code",
   "execution_count": null,
   "metadata": {},
   "outputs": [],
   "source": []
  }
 ],
 "metadata": {
  "kernelspec": {
   "display_name": "Python 3",
   "language": "python",
   "name": "python3"
  },
  "language_info": {
   "codemirror_mode": {
    "name": "ipython",
    "version": 3
   },
   "file_extension": ".py",
   "mimetype": "text/x-python",
   "name": "python",
   "nbconvert_exporter": "python",
   "pygments_lexer": "ipython3",
   "version": "3.7.4"
  }
 },
 "nbformat": 4,
 "nbformat_minor": 2
}
