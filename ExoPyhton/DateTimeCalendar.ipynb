{
 "cells": [
  {
   "cell_type": "markdown",
   "metadata": {},
   "source": [
    "Python fournit des objets permettant de manipuler, le temps et les dates\n",
    "\n",
    "Nous verrons les packages :\n",
    "\n",
    "- time\n",
    "- datetime\n",
    "- calendar\n"
   ]
  },
  {
   "cell_type": "code",
   "execution_count": 1,
   "metadata": {},
   "outputs": [
    {
     "name": "stdout",
     "output_type": "stream",
     "text": [
      "Et après on va dire que Python est long pour afficher un simple texte\n"
     ]
    }
   ],
   "source": [
    "import time\n",
    "time.sleep(10)\n",
    "print(\"Et après on va dire que Python est long pour afficher un simple texte\")"
   ]
  },
  {
   "cell_type": "code",
   "execution_count": 2,
   "metadata": {},
   "outputs": [
    {
     "name": "stdout",
     "output_type": "stream",
     "text": [
      "Et après on va dire que Python est long pour afficher un simple texte\n"
     ]
    }
   ],
   "source": [
    "print(\"Et après on va dire que Python est long pour afficher un simple texte\")"
   ]
  },
  {
   "cell_type": "code",
   "execution_count": 1,
   "metadata": {},
   "outputs": [
    {
     "name": "stdout",
     "output_type": "stream",
     "text": [
      "2023-02-09\n",
      "2023-02-09 12:51:19.642098\n",
      "Noël sera le : 2023-12-25\n"
     ]
    }
   ],
   "source": [
    "from datetime import date, time, datetime\n",
    "\n",
    "today = date.today()\n",
    "print(today)\n",
    "today = datetime.today()\n",
    "print(today)\n",
    "\n",
    "madate = date(year = today.year, month = 12, day = 25)\n",
    "print(\"Noël sera le :\", madate)"
   ]
  },
  {
   "cell_type": "code",
   "execution_count": 2,
   "metadata": {},
   "outputs": [
    {
     "name": "stdout",
     "output_type": "stream",
     "text": [
      "Il reste 319 days, 0:00:00 avant l'arrivée du père Noël\n"
     ]
    }
   ],
   "source": [
    "today = date.today()\n",
    "print(\"Il reste\", madate-today, \"avant l'arrivée du père Noël\")"
   ]
  },
  {
   "cell_type": "markdown",
   "metadata": {},
   "source": [
    "En synthèse, nous avons des objets manipulables qui contiennent des attributs correspondant à leur usage : day, month, year, hour, minute, second, microsecond"
   ]
  },
  {
   "cell_type": "markdown",
   "metadata": {},
   "source": [
    "Il existe un objet **timedelta** qui permet d'effectuer facilement des opérations sur les dates et le temps"
   ]
  },
  {
   "cell_type": "code",
   "execution_count": 3,
   "metadata": {},
   "outputs": [
    {
     "name": "stdout",
     "output_type": "stream",
     "text": [
      "0:54:39.095846\n",
      "il s'est écoulé : 3279 secondes depuis le debut de l'heure\n"
     ]
    }
   ],
   "source": [
    "today = datetime.today()\n",
    "ladate = datetime(today.year, today.month, today.day, today.hour, 0, 0)\n",
    "\n",
    "# ici nous nous retrouvons avec un objet timedelta\n",
    "monecart = today-ladate\n",
    "\n",
    "print(monecart)\n",
    "\n",
    "print (\"il s'est écoulé :\", monecart.seconds ,\"secondes depuis le debut de l'heure\")"
   ]
  },
  {
   "cell_type": "markdown",
   "metadata": {},
   "source": [
    "Il existe des **formatages** permettant d'adapter les affichages dans les différentes zones du monde\n",
    "![Formatage des dates heures](https://miro.medium.com/max/700/1*iNZ03wgi3djsRbMx5gD9jA.png)\n"
   ]
  },
  {
   "cell_type": "code",
   "execution_count": 6,
   "metadata": {},
   "outputs": [
    {
     "name": "stdout",
     "output_type": "stream",
     "text": [
      "2023-02-09 12:57:25.059813\n",
      "Date et heure actuelle : 02092023 12:57:25\n",
      "Date et heure actuelle : Thursday 09 February 23 12:57:25 PM\n"
     ]
    }
   ],
   "source": [
    "today = datetime.now()\n",
    "print(today)\n",
    "\n",
    "monAffichage = today.strftime(\"%m%d%Y %H:%M:%S\")\n",
    "print(\"Date et heure actuelle :\", monAffichage)\n",
    "print(\"Date et heure actuelle :\", today.strftime(\"%A %d %B %y %I:%M:%S %p\"))"
   ]
  },
  {
   "cell_type": "markdown",
   "metadata": {},
   "source": [
    "Une version francisée ?"
   ]
  },
  {
   "cell_type": "code",
   "execution_count": 8,
   "metadata": {},
   "outputs": [
    {
     "name": "stdout",
     "output_type": "stream",
     "text": [
      "('fr_FR', 'ISO8859-1')\n",
      "jeudi 09 février 2023 15:05:17 \n"
     ]
    }
   ],
   "source": [
    "import locale\n",
    "#print(locale.getlocale()) # par défaut : None\n",
    "locale.setlocale(locale.LC_ALL, 'fr_FR')\n",
    "#locale.setlocale(locale.LC_ALL, None)\n",
    "print(locale.getlocale()) #[0])\n",
    "\n",
    "monAffichage = datetime.now().strftime('%A %d %B %Y %H:%M:%S ')\n",
    "print(monAffichage)"
   ]
  },
  {
   "cell_type": "markdown",
   "metadata": {},
   "source": [
    "Un objet **calendrier** est également à notre disposition"
   ]
  },
  {
   "cell_type": "code",
   "execution_count": 9,
   "metadata": {},
   "outputs": [
    {
     "name": "stdout",
     "output_type": "stream",
     "text": [
      "2023 est une année bissextile ? False\n",
      "Affichage des jours : \n",
      "0\n",
      "1\n",
      "2\n",
      "3\n",
      "4\n",
      "5\n",
      "6\n",
      "Affichage des mois : \n",
      "\n",
      "janvier\n",
      "février\n",
      "mars\n",
      "avril\n",
      "mai\n",
      "juin\n",
      "juillet\n",
      "août\n",
      "septembre\n",
      "octobre\n",
      "novembre\n",
      "décembre\n"
     ]
    }
   ],
   "source": [
    "import calendar\n",
    "myCalendar = calendar.Calendar()\n",
    "\n",
    "print(datetime.now().year, \"est une année bissextile ?\", calendar.isleap(datetime.now().year))\n",
    "\n",
    "print (\"Affichage des jours : \")\n",
    "for myday in myCalendar.iterweekdays() :\n",
    "    print(myday)\n",
    "    \n",
    "print (\"Affichage des mois : \")    \n",
    "for mymonth in calendar.month_name:\n",
    "    print(mymonth)\n",
    "\n",
    "   "
   ]
  },
  {
   "cell_type": "code",
   "execution_count": 9,
   "metadata": {},
   "outputs": [
    {
     "name": "stdout",
     "output_type": "stream",
     "text": [
      "     avril 2022\n",
      "di lu ma me je ve sa\n",
      "                1  2\n",
      " 3  4  5  6  7  8  9\n",
      "10 11 12 13 14 15 16\n",
      "17 18 19 20 21 22 23\n",
      "24 25 26 27 28 29 30\n",
      "\n"
     ]
    }
   ],
   "source": [
    "myCalendar = calendar.TextCalendar(calendar.SUNDAY)\n",
    "print(myCalendar.formatmonth(2022,4))"
   ]
  },
  {
   "cell_type": "code",
   "execution_count": 10,
   "metadata": {},
   "outputs": [
    {
     "name": "stdout",
     "output_type": "stream",
     "text": [
      "\"entête des jours sur 1 caractères :\n",
      "l m m j v s d\n",
      "\"entête des jours sur 2 caractères :\n",
      "lu ma me je ve sa di\n",
      "\"entête des jours sur 3 caractères :\n",
      "lun mar mer jeu ven sam dim\n",
      "\"entête des jours sur 4 caractères :\n",
      "lun. mar. mer. jeu. ven. sam. dim.\n",
      "\"entête des jours sur 5 caractères :\n",
      " lun.  mar.  mer.  jeu.  ven.  sam.  dim.\n",
      "\"entête des jours sur 6 caractères :\n",
      " lun.   mar.   mer.   jeu.   ven.   sam.   dim. \n",
      "\"entête des jours sur 7 caractères :\n",
      "  lun.    mar.    mer.    jeu.    ven.    sam.    dim. \n",
      "\"entête des jours sur 8 caractères :\n",
      "  lun.     mar.     mer.     jeu.     ven.     sam.     dim.  \n",
      "\"entête des jours sur 9 caractères :\n",
      "  lundi     mardi    mercredi   jeudi    vendredi   samedi   dimanche\n",
      "lun.\n",
      "mar.\n",
      "mer.\n",
      "jeu.\n",
      "ven.\n",
      "sam.\n",
      "dim.\n"
     ]
    }
   ],
   "source": [
    "# Particularité des entêtes de jours    \n",
    "for i in range(1,10):\n",
    "    print(f'\"entête des jours sur {i} caractères :')\n",
    "    print (calendar.weekheader(i))\n",
    "\n",
    "#Affichage des jours en vertical\n",
    "for oneday in calendar.weekheader(5).split():\n",
    "    print (oneday)"
   ]
  },
  {
   "cell_type": "code",
   "execution_count": null,
   "metadata": {},
   "outputs": [],
   "source": []
  },
  {
   "cell_type": "code",
   "execution_count": null,
   "metadata": {},
   "outputs": [],
   "source": []
  },
  {
   "cell_type": "code",
   "execution_count": null,
   "metadata": {},
   "outputs": [],
   "source": []
  }
 ],
 "metadata": {
  "kernelspec": {
   "display_name": "Python 3",
   "language": "python",
   "name": "python3"
  },
  "language_info": {
   "codemirror_mode": {
    "name": "ipython",
    "version": 3
   },
   "file_extension": ".py",
   "mimetype": "text/x-python",
   "name": "python",
   "nbconvert_exporter": "python",
   "pygments_lexer": "ipython3",
   "version": "3.7.4"
  }
 },
 "nbformat": 4,
 "nbformat_minor": 2
}
