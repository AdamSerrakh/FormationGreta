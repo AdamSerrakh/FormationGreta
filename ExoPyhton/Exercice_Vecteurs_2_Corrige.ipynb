{
 "cells": [
  {
   "cell_type": "markdown",
   "metadata": {},
   "source": [
    "# Exercices sur les vecteurs #"
   ]
  },
  {
   "cell_type": "code",
   "execution_count": 1,
   "metadata": {},
   "outputs": [],
   "source": [
    "v1= [12, 23, -1]\n",
    "v2= [0,-3, +2]"
   ]
  },
  {
   "cell_type": "markdown",
   "metadata": {},
   "source": [
    "# Construire le vecteur somme\n"
   ]
  },
  {
   "cell_type": "code",
   "execution_count": 2,
   "metadata": {},
   "outputs": [],
   "source": [
    "v3 = [12, 20, +1]"
   ]
  },
  {
   "cell_type": "markdown",
   "metadata": {},
   "source": [
    "## énoncé"
   ]
  },
  {
   "cell_type": "code",
   "execution_count": 3,
   "metadata": {},
   "outputs": [],
   "source": [
    "def somvec(v1, v2):\n",
    "    \"\"\" v1 et v2 sont deux vecteurs\n",
    "        retourne un vecteur v1+v2\n",
    "    \"\"\"\n",
    "    pass"
   ]
  },
  {
   "cell_type": "markdown",
   "metadata": {},
   "source": [
    "## une première solution\n",
    "on pense à initialiser un vecteur résultat avec le vecteur nul.\n",
    "Le vecteur nul contient le \"bon\" nombre d'éléments, tous 0.\n",
    "Noter l'emploi de \"assert\" pour garantir que v1 et v2 sont de la même longueur. Observer ce qui se produit si v1 est plus long que v2. Avec et sans assert."
   ]
  },
  {
   "cell_type": "code",
   "execution_count": 4,
   "metadata": {},
   "outputs": [],
   "source": [
    "def somvec1(v1, v2):\n",
    "    \"\"\"somme de deux vecteurs\"\"\"\n",
    "    #on suppose que v2 et v1 sont de la même longueur\n",
    "    assert len(v2)==len(v1),\"v1 et v2 ne sont pas de même longueur\"\n",
    "    u = [0]*len(v1) #indispensable\n",
    "    for i in range(len(v1)):\n",
    "        u[i]=v1[i]+v2[i]\n",
    "    return v"
   ]
  },
  {
   "cell_type": "code",
   "execution_count": 5,
   "metadata": {},
   "outputs": [
    {
     "ename": "NameError",
     "evalue": "name 'v' is not defined",
     "output_type": "error",
     "traceback": [
      "\u001b[0;31m---------------------------------------------------------------------------\u001b[0m",
      "\u001b[0;31mNameError\u001b[0m                                 Traceback (most recent call last)",
      "\u001b[0;32m/tmp/ipykernel_9336/1591591205.py\u001b[0m in \u001b[0;36m<module>\u001b[0;34m\u001b[0m\n\u001b[0;32m----> 1\u001b[0;31m \u001b[0msomvec1\u001b[0m\u001b[0;34m(\u001b[0m\u001b[0mv1\u001b[0m\u001b[0;34m,\u001b[0m\u001b[0mv2\u001b[0m\u001b[0;34m)\u001b[0m\u001b[0;34m\u001b[0m\u001b[0;34m\u001b[0m\u001b[0m\n\u001b[0m",
      "\u001b[0;32m/tmp/ipykernel_9336/2942324452.py\u001b[0m in \u001b[0;36msomvec1\u001b[0;34m(v1, v2)\u001b[0m\n\u001b[1;32m      6\u001b[0m     \u001b[0;32mfor\u001b[0m \u001b[0mi\u001b[0m \u001b[0;32min\u001b[0m \u001b[0mrange\u001b[0m\u001b[0;34m(\u001b[0m\u001b[0mlen\u001b[0m\u001b[0;34m(\u001b[0m\u001b[0mv1\u001b[0m\u001b[0;34m)\u001b[0m\u001b[0;34m)\u001b[0m\u001b[0;34m:\u001b[0m\u001b[0;34m\u001b[0m\u001b[0;34m\u001b[0m\u001b[0m\n\u001b[1;32m      7\u001b[0m         \u001b[0mu\u001b[0m\u001b[0;34m[\u001b[0m\u001b[0mi\u001b[0m\u001b[0;34m]\u001b[0m\u001b[0;34m=\u001b[0m\u001b[0mv1\u001b[0m\u001b[0;34m[\u001b[0m\u001b[0mi\u001b[0m\u001b[0;34m]\u001b[0m\u001b[0;34m+\u001b[0m\u001b[0mv2\u001b[0m\u001b[0;34m[\u001b[0m\u001b[0mi\u001b[0m\u001b[0;34m]\u001b[0m\u001b[0;34m\u001b[0m\u001b[0;34m\u001b[0m\u001b[0m\n\u001b[0;32m----> 8\u001b[0;31m     \u001b[0;32mreturn\u001b[0m \u001b[0mv\u001b[0m\u001b[0;34m\u001b[0m\u001b[0;34m\u001b[0m\u001b[0m\n\u001b[0m",
      "\u001b[0;31mNameError\u001b[0m: name 'v' is not defined"
     ]
    }
   ],
   "source": [
    "somvec1(v1,v2)"
   ]
  },
  {
   "cell_type": "markdown",
   "metadata": {},
   "source": [
    "## une deuxième solution avec append\n",
    "Le vecteur résultat est initialisé à la liste vide. A chaque itération, on ajoute un élément à la fin de cette liste par \"append\".\n",
    "Noter que append a la réputation d'être une instruction coûteuse (parcourir la liste, ajouter un élément à la fin)."
   ]
  },
  {
   "cell_type": "code",
   "execution_count": 6,
   "metadata": {},
   "outputs": [],
   "source": [
    "def somvec2(v1, v2):\n",
    "    \"\"\" v1 et v2 sont deux vecteurs\n",
    "        retourne un vecteur v1 + v2 \"\"\"\n",
    "    v3 = []\n",
    "    assert len(v2)==len(v1),\"v1 et v2 ne sont pas de même longueur\"\n",
    "    for n in range(len(v1)):\n",
    "        v3.append(v1[n] + v2[n])\n",
    "    return v3"
   ]
  },
  {
   "cell_type": "code",
   "execution_count": 7,
   "metadata": {},
   "outputs": [
    {
     "data": {
      "text/plain": [
       "[12, 20, 1]"
      ]
     },
     "execution_count": 7,
     "metadata": {},
     "output_type": "execute_result"
    }
   ],
   "source": [
    "somvec2(v1,v2)"
   ]
  },
  {
   "cell_type": "markdown",
   "metadata": {},
   "source": [
    "## une troisième solution avec une compréhension\n",
    "le plus pythonique. Une compréhension sert à remplir un container ! Ici on fabrique notre vecteur somme en une seule instruction, grâce à cela. Attention on ne peut pas se contenter de retourner la compréhension\n",
    "Noter que le deuxième argument d'assert peut être autre chose qu'une string."
   ]
  },
  {
   "cell_type": "code",
   "execution_count": 8,
   "metadata": {},
   "outputs": [],
   "source": [
    "def somvec(v1,v2):\n",
    "    assert len(v2)==len(v1), 404\n",
    "    return list([ (v1[i]+v2[i]) for i in range(len(v1)) ])"
   ]
  },
  {
   "cell_type": "code",
   "execution_count": 9,
   "metadata": {},
   "outputs": [
    {
     "data": {
      "text/plain": [
       "[12, 20, 1]"
      ]
     },
     "execution_count": 9,
     "metadata": {},
     "output_type": "execute_result"
    }
   ],
   "source": [
    "somvec(v1,v2)"
   ]
  },
  {
   "cell_type": "markdown",
   "metadata": {},
   "source": [
    "# Somme des éléments d'un vecteur\n",
    "C'est l'opération que l'on fait pour faire le total d'une liste de nombres. Python a une fonction sum(), native, qui fait la même chose.\n",
    "\n",
    "## Enoncé"
   ]
  },
  {
   "cell_type": "code",
   "execution_count": 10,
   "metadata": {},
   "outputs": [],
   "source": [
    "def somme(v):\n",
    "    \"\"\" v est un vecteur\n",
    "        retourne la somme des éléments de v\n",
    "    \"\"\"\n",
    "    pass"
   ]
  },
  {
   "cell_type": "markdown",
   "metadata": {},
   "source": [
    "## Solution\n",
    "On peut dire qu'additionner tous les v[i] peut revenir à faire  "
   ]
  },
  {
   "cell_type": "markdown",
   "metadata": {},
   "source": [
    "        (((0 + v[0]) + v[1]) + v[2]) ..."
   ]
  },
  {
   "cell_type": "markdown",
   "metadata": {},
   "source": [
    "Cette écriture donne l'idée d'introduire une variable, que l'on appelle souvent un \"accumulateur\". On l'initialise à 0. Elle reçoit ensuite la valeur des additions successives."
   ]
  },
  {
   "cell_type": "code",
   "execution_count": 11,
   "metadata": {},
   "outputs": [],
   "source": [
    "def somme(v):\n",
    "    \"\"\" v est un vecteur\n",
    "    retourne la somme des éléments de v\n",
    "    \"\"\"\n",
    "  \n",
    "    t = 0\n",
    "    for i in range(len(v)): \n",
    "        t += v[i]\n",
    "    return t"
   ]
  },
  {
   "cell_type": "code",
   "execution_count": 12,
   "metadata": {},
   "outputs": [
    {
     "data": {
      "text/plain": [
       "34"
      ]
     },
     "execution_count": 12,
     "metadata": {},
     "output_type": "execute_result"
    }
   ],
   "source": [
    "somme(v1)"
   ]
  },
  {
   "cell_type": "markdown",
   "metadata": {},
   "source": [
    "# Produit scalaire\n",
    "Le produit scalaire de deux vecteurs  est un nombre. On l'obtient en faisant la somme des produits des composantes de même rang  des deux vecteurs. Par exemple :"
   ]
  },
  {
   "cell_type": "code",
   "execution_count": 13,
   "metadata": {},
   "outputs": [],
   "source": [
    "v1= [12, 23, -1]\n",
    "v2= [0,-3, +2]\n",
    "p = 12 *0 - 23 *3 -1 *2"
   ]
  },
  {
   "cell_type": "code",
   "execution_count": 14,
   "metadata": {},
   "outputs": [
    {
     "data": {
      "text/plain": [
       "-71"
      ]
     },
     "execution_count": 14,
     "metadata": {},
     "output_type": "execute_result"
    }
   ],
   "source": [
    "p"
   ]
  },
  {
   "cell_type": "markdown",
   "metadata": {},
   "source": [
    "## Enoncé"
   ]
  },
  {
   "cell_type": "code",
   "execution_count": 15,
   "metadata": {},
   "outputs": [],
   "source": [
    "def scalaire(v1,v2):\n",
    "    \"\"\" \n",
    "        v1 et v2 sont deux vecteurs de même dim\n",
    "        retourne la somme des produits des composantes de même rang\n",
    "         \n",
    "    \"\"\"\n",
    "    pass"
   ]
  },
  {
   "cell_type": "markdown",
   "metadata": {},
   "source": [
    "## une première solution"
   ]
  },
  {
   "cell_type": "code",
   "execution_count": 16,
   "metadata": {},
   "outputs": [],
   "source": [
    "\n",
    "def scalairev(v1,v2):\n",
    "    \"\"\"V1  et V2 st deux vecteur de meme dim\n",
    "        retourne la somme des produits des composantes\"\"\"\n",
    "\n",
    "    result = 0 #sert d'accumulateur\n",
    "\n",
    "    for i in range(len(v1)):\n",
    "        result += v1[i]*v2[i]\n",
    "\n",
    "    return result"
   ]
  },
  {
   "cell_type": "code",
   "execution_count": 17,
   "metadata": {},
   "outputs": [
    {
     "data": {
      "text/plain": [
       "-71"
      ]
     },
     "execution_count": 17,
     "metadata": {},
     "output_type": "execute_result"
    }
   ],
   "source": [
    "scalairev(v1,v2)"
   ]
  },
  {
   "cell_type": "markdown",
   "metadata": {},
   "source": [
    "## Une solution qui combine les exercices précédents\n",
    "On propose une compréhension pour construire le vecteur des produits et de réutiliser la fonction somme, déjà faite."
   ]
  },
  {
   "cell_type": "code",
   "execution_count": 18,
   "metadata": {},
   "outputs": [],
   "source": [
    "def scalaire(v1,v2):\n",
    "    assert len(v2)==len(v1), \"Même longueur svp !\"\n",
    "    return somme([v1[i]*v2[i] for i in range(len(v1))])"
   ]
  },
  {
   "cell_type": "code",
   "execution_count": 19,
   "metadata": {},
   "outputs": [
    {
     "data": {
      "text/plain": [
       "-71"
      ]
     },
     "execution_count": 19,
     "metadata": {},
     "output_type": "execute_result"
    }
   ],
   "source": [
    "scalaire(v1,v2)"
   ]
  },
  {
   "cell_type": "code",
   "execution_count": null,
   "metadata": {},
   "outputs": [],
   "source": []
  },
  {
   "cell_type": "code",
   "execution_count": null,
   "metadata": {},
   "outputs": [],
   "source": []
  },
  {
   "cell_type": "code",
   "execution_count": null,
   "metadata": {},
   "outputs": [],
   "source": []
  },
  {
   "cell_type": "code",
   "execution_count": null,
   "metadata": {},
   "outputs": [],
   "source": []
  }
 ],
 "metadata": {
  "kernelspec": {
   "display_name": "Python 3 (ipykernel)",
   "language": "python",
   "name": "python3"
  },
  "language_info": {
   "codemirror_mode": {
    "name": "ipython",
    "version": 3
   },
   "file_extension": ".py",
   "mimetype": "text/x-python",
   "name": "python",
   "nbconvert_exporter": "python",
   "pygments_lexer": "ipython3",
   "version": "3.9.13"
  }
 },
 "nbformat": 4,
 "nbformat_minor": 2
}
