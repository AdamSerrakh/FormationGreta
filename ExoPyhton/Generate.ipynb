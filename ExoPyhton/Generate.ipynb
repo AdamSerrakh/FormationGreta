{
 "cells": [
  {
   "cell_type": "code",
   "execution_count": 1,
   "id": "695b163f",
   "metadata": {},
   "outputs": [],
   "source": [
    "def fib_r(n):\n",
    "    if(n <= 1):\n",
    "        return 1\n",
    "    return fib_r(n-1)+fib_r(n-2)"
   ]
  },
  {
   "cell_type": "code",
   "execution_count": 2,
   "id": "254c929a",
   "metadata": {},
   "outputs": [
    {
     "name": "stdout",
     "output_type": "stream",
     "text": [
      "1\t1\t2\t3\t5\t8\t13\t21\t34\t55\t"
     ]
    }
   ],
   "source": [
    "for i in range(10):\n",
    "    print(fib_r(i), end=\"\\t\")"
   ]
  },
  {
   "cell_type": "code",
   "execution_count": 3,
   "id": "5bd9e271",
   "metadata": {},
   "outputs": [],
   "source": [
    "def fib_i(n):\n",
    "    n1,n2,n3=1,1,1\n",
    "    for i in range(2,n+1):\n",
    "        n3,n1,n2=n1+n2,n2,n3\n",
    "    return n3"
   ]
  },
  {
   "cell_type": "code",
   "execution_count": 4,
   "id": "82f88f86",
   "metadata": {},
   "outputs": [
    {
     "name": "stdout",
     "output_type": "stream",
     "text": [
      "1\t1\t2\t3\t5\t8\t13\t21\t34\t55\t"
     ]
    }
   ],
   "source": [
    "for i in range(10):\n",
    "    print(fib_r(i), end='\\t')"
   ]
  },
  {
   "cell_type": "code",
   "execution_count": 5,
   "id": "080aa434",
   "metadata": {},
   "outputs": [],
   "source": [
    "def fib_g():\n",
    "    yield 1\n",
    "    yield 1\n",
    "    n1,n2=1,1\n",
    "    while True:\n",
    "        n3=n1+n2\n",
    "        yield n3\n",
    "        n1,n2=n2,n3"
   ]
  },
  {
   "cell_type": "code",
   "execution_count": 6,
   "id": "3a83b284",
   "metadata": {},
   "outputs": [],
   "source": [
    "g = fib_g()"
   ]
  },
  {
   "cell_type": "code",
   "execution_count": 7,
   "id": "e63c544d",
   "metadata": {},
   "outputs": [
    {
     "name": "stdout",
     "output_type": "stream",
     "text": [
      "1\t1\t2\t3\t5\t8\t13\t21\t34\t55\t"
     ]
    }
   ],
   "source": [
    "for i in range(10):\n",
    "    print(next(g), end='\\t')"
   ]
  },
  {
   "cell_type": "code",
   "execution_count": null,
   "id": "dc2e5df8",
   "metadata": {},
   "outputs": [],
   "source": []
  }
 ],
 "metadata": {
  "kernelspec": {
   "display_name": "Python 3 (ipykernel)",
   "language": "python",
   "name": "python3"
  },
  "language_info": {
   "codemirror_mode": {
    "name": "ipython",
    "version": 3
   },
   "file_extension": ".py",
   "mimetype": "text/x-python",
   "name": "python",
   "nbconvert_exporter": "python",
   "pygments_lexer": "ipython3",
   "version": "3.9.13"
  }
 },
 "nbformat": 4,
 "nbformat_minor": 5
}
