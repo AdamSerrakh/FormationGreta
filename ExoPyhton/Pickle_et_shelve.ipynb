{
 "cells": [
  {
   "cell_type": "code",
   "execution_count": 28,
   "metadata": {},
   "outputs": [
    {
     "name": "stdout",
     "output_type": "stream",
     "text": [
      "bonjour\n",
      "None <class 'type'>\n",
      "<class '__main__.A'>\n",
      "True <class 'type'> <class 'type'>\n",
      "bonjour\n",
      "None <__main__.A object at 0x058A0590>\n"
     ]
    }
   ],
   "source": [
    "import pickle\n",
    "import string\n",
    "mavar = {i:ord(i) for i in string.ascii_lowercase}\n",
    "class A:\n",
    "    def bonjour():\n",
    "        print(\"bonjour\")\n",
    "\n",
    "mavar2 = A\n",
    "print(mavar2.bonjour(),type(mavar2))\n",
    "\n",
    "with open('data.pckl','wb') as fo:\n",
    "    #pickle.dump(mavar,fo)\n",
    "    pickle.dump(mavar2,fo)\n",
    "    \n",
    "with open('data.pckl','rb') as fi:\n",
    "    x1 = pickle.load(fi)\n",
    "\n",
    "print(x1)\n",
    "\n",
    "print(x1 is mavar2, type(x1), type(mavar2))\n",
    "print(x1.bonjour(),x1())"
   ]
  },
  {
   "cell_type": "code",
   "execution_count": 30,
   "metadata": {},
   "outputs": [
    {
     "name": "stdout",
     "output_type": "stream",
     "text": [
      "{'a': 97, 'b': 98, 'c': 99, 'd': 100, 'e': 101, 'f': 102, 'g': 103, 'h': 104, 'i': 105, 'j': 106, 'k': 107, 'l': 108, 'm': 109, 'n': 110, 'o': 111, 'p': 112, 'q': 113, 'r': 114, 's': 115, 't': 116, 'u': 117, 'v': 118, 'w': 119, 'x': 120, 'y': 121, 'z': 122}\n",
      "inutile donc indispensable\n",
      "False\n"
     ]
    }
   ],
   "source": [
    "import shelve\n",
    "\n",
    "def mafonction():\n",
    "    print('inutile donc indispensable')\n",
    "    return False\n",
    "\n",
    "\n",
    "\n",
    "with shelve.open(\"data.db\", \"c\") as shlv:\n",
    "    shlv[\"foo\"] = mavar\n",
    "    shlv[\"bar\"] = mafonction\n",
    "\n",
    "with shelve.open(\"data.db\", \"r\") as shlv:\n",
    "    print(shlv[\"foo\"])\n",
    "    print(shlv[\"bar\"]())\n"
   ]
  },
  {
   "cell_type": "code",
   "execution_count": null,
   "metadata": {},
   "outputs": [],
   "source": []
  }
 ],
 "metadata": {
  "kernelspec": {
   "display_name": "Python 3",
   "language": "python",
   "name": "python3"
  },
  "language_info": {
   "codemirror_mode": {
    "name": "ipython",
    "version": 3
   },
   "file_extension": ".py",
   "mimetype": "text/x-python",
   "name": "python",
   "nbconvert_exporter": "python",
   "pygments_lexer": "ipython3",
   "version": "3.7.4"
  }
 },
 "nbformat": 4,
 "nbformat_minor": 2
}
