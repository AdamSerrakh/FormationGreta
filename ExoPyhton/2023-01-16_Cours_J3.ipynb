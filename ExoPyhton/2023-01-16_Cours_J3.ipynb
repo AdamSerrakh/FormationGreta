{
 "cells": [
  {
   "cell_type": "code",
   "execution_count": 2,
   "id": "22ff9917",
   "metadata": {},
   "outputs": [
    {
     "name": "stdout",
     "output_type": "stream",
     "text": [
      "12\n"
     ]
    }
   ],
   "source": [
    "a=12\n",
    "if a!=0:\n",
    "    print(a)"
   ]
  },
  {
   "cell_type": "code",
   "execution_count": 3,
   "id": "d837a99f",
   "metadata": {},
   "outputs": [
    {
     "name": "stdout",
     "output_type": "stream",
     "text": [
      "Non nul\n"
     ]
    }
   ],
   "source": [
    "if a!=0 :\n",
    "    print(\"Non nul\")\n",
    "else:\n",
    "    print(\"Nul\")"
   ]
  },
  {
   "cell_type": "code",
   "execution_count": 5,
   "id": "7e15dba1",
   "metadata": {},
   "outputs": [
    {
     "name": "stdout",
     "output_type": "stream",
     "text": [
      "Non nul\n",
      "Nul)\n"
     ]
    }
   ],
   "source": [
    "if a != 0:\n",
    "    print(\"Non nul\")\n",
    "    a = a - 12\n",
    "if a == 0:\n",
    "    print(\"Nul\")"
   ]
  },
  {
   "cell_type": "code",
   "execution_count": 8,
   "id": "63e4f374",
   "metadata": {},
   "outputs": [
    {
     "data": {
      "text/plain": [
       "False"
      ]
     },
     "execution_count": 8,
     "metadata": {},
     "output_type": "execute_result"
    }
   ],
   "source": [
    "bool(0.0)"
   ]
  },
  {
   "cell_type": "code",
   "execution_count": 9,
   "id": "07d7c879",
   "metadata": {},
   "outputs": [
    {
     "data": {
      "text/plain": [
       "13"
      ]
     },
     "execution_count": 9,
     "metadata": {},
     "output_type": "execute_result"
    }
   ],
   "source": [
    "a=12\n",
    "b=13\n",
    "a if a>=b else b    # Expression conditionnelle ou \"if ternaire\""
   ]
  },
  {
   "cell_type": "code",
   "execution_count": 15,
   "id": "bf7c1766",
   "metadata": {},
   "outputs": [
    {
     "name": "stdout",
     "output_type": "stream",
     "text": [
      "a est vide ou nul\n"
     ]
    }
   ],
   "source": [
    "if a :\n",
    "    pass\n",
    "else:\n",
    "    print(\"a est vide ou nul\")"
   ]
  },
  {
   "cell_type": "code",
   "execution_count": 11,
   "id": "5c985218",
   "metadata": {},
   "outputs": [],
   "source": [
    "a=0"
   ]
  },
  {
   "cell_type": "code",
   "execution_count": 20,
   "id": "43a40cc0",
   "metadata": {},
   "outputs": [
    {
     "data": {
      "text/plain": [
       "1.4142135623730951"
      ]
     },
     "execution_count": 20,
     "metadata": {},
     "output_type": "execute_result"
    }
   ],
   "source": [
    "math.sqrt(2)"
   ]
  },
  {
   "cell_type": "code",
   "execution_count": 17,
   "id": "42135a1c",
   "metadata": {},
   "outputs": [],
   "source": [
    "import math"
   ]
  },
  {
   "cell_type": "code",
   "execution_count": null,
   "id": "c25bd79b",
   "metadata": {},
   "outputs": [],
   "source": []
  }
 ],
 "metadata": {
  "kernelspec": {
   "display_name": "Python 3 (ipykernel)",
   "language": "python",
   "name": "python3"
  },
  "language_info": {
   "codemirror_mode": {
    "name": "ipython",
    "version": 3
   },
   "file_extension": ".py",
   "mimetype": "text/x-python",
   "name": "python",
   "nbconvert_exporter": "python",
   "pygments_lexer": "ipython3",
   "version": "3.10.5"
  }
 },
 "nbformat": 4,
 "nbformat_minor": 5
}
