{
 "cells": [
  {
   "cell_type": "code",
   "execution_count": 1,
   "id": "eefe9818",
   "metadata": {},
   "outputs": [],
   "source": [
    "from turtle import *"
   ]
  },
  {
   "cell_type": "code",
   "execution_count": 2,
   "id": "b2bc69db",
   "metadata": {},
   "outputs": [],
   "source": [
    "showturtle()"
   ]
  },
  {
   "cell_type": "code",
   "execution_count": 3,
   "id": "d98b15e6",
   "metadata": {},
   "outputs": [],
   "source": [
    "hideturtle()"
   ]
  },
  {
   "cell_type": "code",
   "execution_count": 4,
   "id": "c8316031",
   "metadata": {},
   "outputs": [],
   "source": [
    "shape('turtle')"
   ]
  },
  {
   "cell_type": "code",
   "execution_count": 5,
   "id": "95ef7632",
   "metadata": {},
   "outputs": [],
   "source": [
    "showturtle()"
   ]
  },
  {
   "cell_type": "code",
   "execution_count": 6,
   "id": "bd771db1",
   "metadata": {},
   "outputs": [],
   "source": [
    "forward(100)"
   ]
  },
  {
   "cell_type": "code",
   "execution_count": 7,
   "id": "ce2482fc",
   "metadata": {},
   "outputs": [],
   "source": [
    "left(100)"
   ]
  },
  {
   "cell_type": "code",
   "execution_count": 8,
   "id": "b7d0121e",
   "metadata": {},
   "outputs": [],
   "source": [
    "forward(100)"
   ]
  },
  {
   "cell_type": "code",
   "execution_count": 9,
   "id": "79257212",
   "metadata": {},
   "outputs": [],
   "source": [
    "right(100)"
   ]
  },
  {
   "cell_type": "code",
   "execution_count": 10,
   "id": "81d82609",
   "metadata": {},
   "outputs": [],
   "source": [
    "home()"
   ]
  },
  {
   "cell_type": "code",
   "execution_count": 11,
   "id": "4ba2b4c7",
   "metadata": {},
   "outputs": [],
   "source": [
    "penup()"
   ]
  },
  {
   "cell_type": "code",
   "execution_count": 12,
   "id": "e5bc05da",
   "metadata": {},
   "outputs": [],
   "source": [
    "pendown()"
   ]
  },
  {
   "cell_type": "code",
   "execution_count": 13,
   "id": "3d925dda",
   "metadata": {},
   "outputs": [],
   "source": [
    "clear()"
   ]
  },
  {
   "cell_type": "code",
   "execution_count": 14,
   "id": "ee2e40d6",
   "metadata": {},
   "outputs": [],
   "source": [
    "forward(100)"
   ]
  },
  {
   "cell_type": "code",
   "execution_count": 15,
   "id": "053c2883",
   "metadata": {},
   "outputs": [],
   "source": [
    "left(90)"
   ]
  },
  {
   "cell_type": "code",
   "execution_count": 16,
   "id": "c7dd032d",
   "metadata": {},
   "outputs": [],
   "source": [
    "forward(100)"
   ]
  },
  {
   "cell_type": "code",
   "execution_count": 17,
   "id": "50da3304",
   "metadata": {},
   "outputs": [],
   "source": [
    "clear()"
   ]
  },
  {
   "cell_type": "code",
   "execution_count": 18,
   "id": "10da70a5",
   "metadata": {},
   "outputs": [],
   "source": [
    "def carre (n):\n",
    "    clear()\n",
    "    for i in range(3):\n",
    "        fd(n)\n",
    "        left(90)\n",
    "    home()\n",
    "    return True"
   ]
  },
  {
   "cell_type": "code",
   "execution_count": 19,
   "id": "d922a921",
   "metadata": {},
   "outputs": [
    {
     "data": {
      "text/plain": [
       "True"
      ]
     },
     "execution_count": 19,
     "metadata": {},
     "output_type": "execute_result"
    }
   ],
   "source": [
    "carre(175)"
   ]
  },
  {
   "cell_type": "code",
   "execution_count": 20,
   "id": "daab4ec8",
   "metadata": {},
   "outputs": [],
   "source": [
    "def triangleEquilaterale(c):\n",
    "    clear()\n",
    "    for i in range (3):\n",
    "        fd(c)\n",
    "        left(120)\n",
    "    return True"
   ]
  },
  {
   "cell_type": "code",
   "execution_count": 21,
   "id": "7e6394b3",
   "metadata": {},
   "outputs": [
    {
     "data": {
      "text/plain": [
       "True"
      ]
     },
     "execution_count": 21,
     "metadata": {},
     "output_type": "execute_result"
    }
   ],
   "source": [
    "triangleEquilaterale(100)"
   ]
  },
  {
   "cell_type": "code",
   "execution_count": 22,
   "id": "9b23afde",
   "metadata": {},
   "outputs": [],
   "source": [
    "def pentagone(c):\n",
    "    clear()\n",
    "    for i in range (5):\n",
    "        fd(c)\n",
    "        left(72)\n",
    "    return True"
   ]
  },
  {
   "cell_type": "code",
   "execution_count": 23,
   "id": "e3d10e6c",
   "metadata": {},
   "outputs": [
    {
     "data": {
      "text/plain": [
       "True"
      ]
     },
     "execution_count": 23,
     "metadata": {},
     "output_type": "execute_result"
    }
   ],
   "source": [
    "pentagone(100)"
   ]
  },
  {
   "cell_type": "code",
   "execution_count": 24,
   "id": "5f7237e6",
   "metadata": {},
   "outputs": [],
   "source": [
    "def polygone(n,c):\n",
    "    clear()\n",
    "    for i in range(n):\n",
    "        fd(c)\n",
    "        left(360/n)\n",
    "    return True"
   ]
  },
  {
   "cell_type": "code",
   "execution_count": 25,
   "id": "7e9ec6de",
   "metadata": {},
   "outputs": [
    {
     "data": {
      "text/plain": [
       "True"
      ]
     },
     "execution_count": 25,
     "metadata": {},
     "output_type": "execute_result"
    }
   ],
   "source": [
    "polygone(10,50)"
   ]
  },
  {
   "cell_type": "code",
   "execution_count": 26,
   "id": "cc8e4fce",
   "metadata": {},
   "outputs": [],
   "source": [
    "reset()"
   ]
  },
  {
   "cell_type": "code",
   "execution_count": 27,
   "id": "f4635b85",
   "metadata": {},
   "outputs": [],
   "source": [
    "exitonclick()"
   ]
  },
  {
   "cell_type": "code",
   "execution_count": null,
   "id": "9552d48d",
   "metadata": {},
   "outputs": [],
   "source": []
  }
 ],
 "metadata": {
  "kernelspec": {
   "display_name": "Python 3 (ipykernel)",
   "language": "python",
   "name": "python3"
  },
  "language_info": {
   "codemirror_mode": {
    "name": "ipython",
    "version": 3
   },
   "file_extension": ".py",
   "mimetype": "text/x-python",
   "name": "python",
   "nbconvert_exporter": "python",
   "pygments_lexer": "ipython3",
   "version": "3.9.13"
  }
 },
 "nbformat": 4,
 "nbformat_minor": 5
}
