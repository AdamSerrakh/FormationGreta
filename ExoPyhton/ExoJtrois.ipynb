{
 "cells": [
  {
   "cell_type": "code",
   "execution_count": 1,
   "id": "70403ddd",
   "metadata": {},
   "outputs": [
    {
     "name": "stdout",
     "output_type": "stream",
     "text": [
      "entrez un nombre a :56\n",
      "entrez un nombre b :54\n",
      "le résultat de l'addition de 56 et 54 est 110\n"
     ]
    }
   ],
   "source": [
    "a = int(input(\"entrez un nombre a :\"))\n",
    "b = int(input(\"entrez un nombre b :\"))\n",
    "print (\"le résultat de l'addition de\", a, \"et\", b, \"est\", a+b)"
   ]
  },
  {
   "cell_type": "code",
   "execution_count": 2,
   "id": "c61348e0",
   "metadata": {},
   "outputs": [
    {
     "data": {
      "text/plain": [
       "56"
      ]
     },
     "execution_count": 2,
     "metadata": {},
     "output_type": "execute_result"
    }
   ],
   "source": [
    "a"
   ]
  },
  {
   "cell_type": "code",
   "execution_count": 3,
   "id": "14659f51",
   "metadata": {},
   "outputs": [
    {
     "name": "stdout",
     "output_type": "stream",
     "text": [
      "56\n"
     ]
    }
   ],
   "source": [
    "if a!=0:\n",
    "    print(a)"
   ]
  },
  {
   "cell_type": "code",
   "execution_count": 58,
   "id": "e05a0150",
   "metadata": {},
   "outputs": [],
   "source": [
    "def imc(t,m):\n",
    "    \"\"\" Calcule l'imc à partir de la taille en m et la masse en kg\"\"\"\n",
    "    i = m/(t**2)\n",
    "    if(i<18.5):\n",
    "        return 'votre imc est inférieur à 18.5'\n",
    "    elif(i>25):\n",
    "        return 'votre imc est supérieur à 25'\n",
    "    else:\n",
    "        return 'votre imc est enter 18.5 et 25'"
   ]
  },
  {
   "cell_type": "code",
   "execution_count": 59,
   "id": "0a0335bd",
   "metadata": {},
   "outputs": [
    {
     "data": {
      "text/plain": [
       "'votre imc est inférieur à 18.5'"
      ]
     },
     "execution_count": 59,
     "metadata": {},
     "output_type": "execute_result"
    }
   ],
   "source": [
    "imc(1.7,40)"
   ]
  },
  {
   "cell_type": "code",
   "execution_count": 60,
   "id": "5fb1f5dd",
   "metadata": {},
   "outputs": [],
   "source": [
    "def factorielle(n):\n",
    "    \"\"\" Calcule le factorielle d'un nombre\"\"\"\n",
    "    if n==0:\n",
    "        return 1\n",
    "    else:\n",
    "        return n*factorielle(n-1)\n",
    "def factorielle2(n):\n",
    "    return n*factorielle(n-1) if n else 1"
   ]
  },
  {
   "cell_type": "code",
   "execution_count": 88,
   "id": "9fc8bd71",
   "metadata": {},
   "outputs": [
    {
     "data": {
      "text/plain": [
       "3628800"
      ]
     },
     "execution_count": 88,
     "metadata": {},
     "output_type": "execute_result"
    }
   ],
   "source": [
    "factorielle2(10)"
   ]
  },
  {
   "cell_type": "code",
   "execution_count": 98,
   "id": "86087bb1",
   "metadata": {},
   "outputs": [],
   "source": [
    "def pgcd2 (a,b):\n",
    "    \"\"\" Calcule le pgcd de deux nombres\"\"\"\n",
    "    if (a%b==0):\n",
    "        return b\n",
    "    else:\n",
    "        return pgcd(b,a%b)"
   ]
  },
  {
   "cell_type": "code",
   "execution_count": 99,
   "id": "a5c958ec",
   "metadata": {},
   "outputs": [
    {
     "data": {
      "text/plain": [
       "5"
      ]
     },
     "execution_count": 99,
     "metadata": {},
     "output_type": "execute_result"
    }
   ],
   "source": [
    "pgcd2(5,65)"
   ]
  },
  {
   "cell_type": "code",
   "execution_count": 100,
   "id": "139b66f6",
   "metadata": {},
   "outputs": [
    {
     "name": "stdout",
     "output_type": "stream",
     "text": [
      "5\n"
     ]
    }
   ],
   "source": [
    "a=5\n",
    "if a:\n",
    "    print (5)"
   ]
  },
  {
   "cell_type": "code",
   "execution_count": 105,
   "id": "7b64332a",
   "metadata": {},
   "outputs": [
    {
     "name": "stdout",
     "output_type": "stream",
     "text": [
      "Quelle est la somme d'EUR a changé en USD ? 45\n",
      "41.53725 USD\n"
     ]
    }
   ],
   "source": [
    "Taux = 0.92305\n",
    "\n",
    "devise1 = \"USD\"\n",
    "devise2 = \"EUR\"\n",
    "\n",
    "dev1 = int(input(\"Quelle est la somme d\\'EUR a changé en USD ? \" ))\n",
    "dev2= Taux*dev1\n",
    "print (dev2,\"USD\")"
   ]
  },
  {
   "cell_type": "code",
   "execution_count": null,
   "id": "08844f9f",
   "metadata": {},
   "outputs": [],
   "source": []
  }
 ],
 "metadata": {
  "kernelspec": {
   "display_name": "Python 3 (ipykernel)",
   "language": "python",
   "name": "python3"
  },
  "language_info": {
   "codemirror_mode": {
    "name": "ipython",
    "version": 3
   },
   "file_extension": ".py",
   "mimetype": "text/x-python",
   "name": "python",
   "nbconvert_exporter": "python",
   "pygments_lexer": "ipython3",
   "version": "3.9.13"
  }
 },
 "nbformat": 4,
 "nbformat_minor": 5
}
