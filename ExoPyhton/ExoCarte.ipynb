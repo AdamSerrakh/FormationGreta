{
 "cells": [
  {
   "cell_type": "code",
   "execution_count": 1,
   "id": "71f2fec0",
   "metadata": {},
   "outputs": [],
   "source": [
    "class Carte:\n",
    "   \n",
    "    def couleurValide(self,couleur):\n",
    "        couleur = couleur.lower()\n",
    "        if couleur in [\"coeur\",\"pique\",\"trefle\",\"carreau\"]:\n",
    "            return True\n",
    "        return False\n",
    "    \n",
    "    def valeurValide(self,valeur):\n",
    "        valeur = str(valeur)\n",
    "        valeur = valeur.lower()\n",
    "        if valeur in [\"as\",\"1\",\"2\",\"3\",\"4\",\"5\",\"6\",\"7\",\"8\",\"9\",\"10\",\"valet\",\"dame\",\"roi\"]:\n",
    "            return True\n",
    "        return False\n",
    "    \n",
    "    def __init__(self, valeur, couleur):\n",
    "        self.couleur = couleur\n",
    "        self.valeur = valeur\n",
    "        \n",
    "        assert self.valeurValide(valeur),\"La valeur n'est pas bonne\"\n",
    "        assert self.couleurValide(couleur),\"La couleur n'est pas bonne\"    \n",
    "        \n",
    "    def __str__(self):\n",
    "        return f\"la carte est {self.valeur} de {self.couleur}\"\n",
    "    \n",
    "    def __repr__(self):\n",
    "        return f\"Carte('{self.valeur}','{self.couleur}')\"\n"
   ]
  },
  {
   "cell_type": "code",
   "execution_count": 2,
   "id": "fce0dcc7",
   "metadata": {},
   "outputs": [
    {
     "name": "stdout",
     "output_type": "stream",
     "text": [
      "la carte est 5 de Coeur\n",
      "Carte('5','Coeur')\n",
      "False\n",
      "la carte est 4 de Pique\n"
     ]
    }
   ],
   "source": [
    "c = Carte(\"5\",\"Coeur\")\n",
    "print (c)\n",
    "print (repr(c))\n",
    "print(Carte.valeurValide(Carte,\"56\"))\n",
    "c1 = Carte(\"4\",\"Pique\")\n",
    "print (c1)"
   ]
  },
  {
   "cell_type": "code",
   "execution_count": 15,
   "id": "5002127f",
   "metadata": {},
   "outputs": [
    {
     "name": "stderr",
     "output_type": "stream",
     "text": [
      "..\n",
      "----------------------------------------------------------------------\n",
      "Ran 2 tests in 0.001s\n",
      "\n",
      "OK\n"
     ]
    }
   ],
   "source": [
    "import unittest\n",
    "\n",
    "\n",
    "class TestVecteur(unittest.TestCase):\n",
    "    def test_couleur(self):\n",
    "        self.assertEqual(c.couleurValide(\"piquef\"),False)\n",
    "    def test_valeur(self):\n",
    "        self.assertEqual(c.valeurValide(\"10\"),True)\n",
    "\n",
    "resultat = unittest.main(argv=[''],exit=False)"
   ]
  },
  {
   "cell_type": "code",
   "execution_count": null,
   "id": "e011590c",
   "metadata": {},
   "outputs": [],
   "source": []
  }
 ],
 "metadata": {
  "kernelspec": {
   "display_name": "Python 3 (ipykernel)",
   "language": "python",
   "name": "python3"
  },
  "language_info": {
   "codemirror_mode": {
    "name": "ipython",
    "version": 3
   },
   "file_extension": ".py",
   "mimetype": "text/x-python",
   "name": "python",
   "nbconvert_exporter": "python",
   "pygments_lexer": "ipython3",
   "version": "3.9.13"
  }
 },
 "nbformat": 4,
 "nbformat_minor": 5
}
